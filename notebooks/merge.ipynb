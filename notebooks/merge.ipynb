{
 "cells": [
  {
   "cell_type": "code",
   "execution_count": 5,
   "metadata": {},
   "outputs": [],
   "source": [
    "import pandas as pd\n",
    "import re\n",
    "from collections import defaultdict"
   ]
  },
  {
   "cell_type": "code",
   "execution_count": 7,
   "metadata": {},
   "outputs": [],
   "source": [
    "current_rent = pd.read_csv('../data/curated/preprocessed_current_rent.csv')\n",
    "subs_w_hist_data = pd.read_csv('../data/curated/all_properties.csv')['Suburb']"
   ]
  },
  {
   "cell_type": "code",
   "execution_count": 8,
   "metadata": {},
   "outputs": [],
   "source": [
    "# Remove duplicates\n",
    "subs_w_hist_data = subs_w_hist_data.drop_duplicates()"
   ]
  },
  {
   "cell_type": "code",
   "execution_count": 9,
   "metadata": {},
   "outputs": [
    {
     "name": "stdout",
     "output_type": "stream",
     "text": [
      "There are 182 suburbs existing in both files, which is 30.03% of the total\n"
     ]
    }
   ],
   "source": [
    "# Find how many suburbs exist in both files\n",
    "subs1 = pd.Series(current_rent['suburb'].unique())\n",
    "\n",
    "same = subs_w_hist_data[subs_w_hist_data.isin(subs1)]\n",
    "\n",
    "print(f\"There are {same.count()} suburbs existing in both files, which is {round(same.count()/len(current_rent['suburb'].unique()),4)*100}% of the total\")"
   ]
  },
  {
   "cell_type": "code",
   "execution_count": 20,
   "metadata": {},
   "outputs": [],
   "source": [
    "# Find all properties located in the suburbs with historical data\n",
    "props_w_hist = current_rent[current_rent['suburb'].isin(same)]\n"
   ]
  },
  {
   "cell_type": "code",
   "execution_count": null,
   "metadata": {},
   "outputs": [],
   "source": [
    "props_w_hist.to_csv('../data/curated/props_w_hist.csv')"
   ]
  }
 ],
 "metadata": {
  "kernelspec": {
   "display_name": ".venv",
   "language": "python",
   "name": "python3"
  },
  "language_info": {
   "codemirror_mode": {
    "name": "ipython",
    "version": 3
   },
   "file_extension": ".py",
   "mimetype": "text/x-python",
   "name": "python",
   "nbconvert_exporter": "python",
   "pygments_lexer": "ipython3",
   "version": "3.12.4"
  }
 },
 "nbformat": 4,
 "nbformat_minor": 2
}
