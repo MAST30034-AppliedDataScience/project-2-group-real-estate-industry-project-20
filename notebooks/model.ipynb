{
 "cells": [
  {
   "cell_type": "code",
   "execution_count": 287,
   "metadata": {},
   "outputs": [],
   "source": [
    "import pandas as pd\n",
    "import seaborn as sns\n",
    "from sklearn.feature_selection import mutual_info_regression\n",
    "import numpy as np\n",
    "from sklearn.model_selection import train_test_split\n",
    "from sklearn.linear_model import LinearRegression\n",
    "from sklearn.ensemble import RandomForestRegressor\n",
    "from sklearn.metrics import root_mean_squared_error, r2_score"
   ]
  },
  {
   "cell_type": "code",
   "execution_count": 288,
   "metadata": {},
   "outputs": [],
   "source": [
    "df = pd.read_csv('../data/curated/houses_all_properties.csv')\n",
    "THRESHOLD = 50"
   ]
  },
  {
   "cell_type": "code",
   "execution_count": 289,
   "metadata": {},
   "outputs": [],
   "source": [
    "df = df[['address','suburb','SA2_Name', 'parking', 'type', 'num_schools', 'cost', 'beds', 'baths', 'cost/(beds+baths)',\n",
    "         'closest_train_station_distance_km', 'closest_tram_station_distance_km', 'closest_hospital_distance_km',\n",
    "         'closest_grocery_distance_km', 'Net_migration_2021_22', 'Net_migration_2022_23', 'ERP_per_km2_2021',\n",
    "         'ERP_per_km2_2022', 'ERP_per_km2_2023', 'ERP_increase_2020_21', 'ERP_increase_2021_22', 'ERP_increase_2022_23',\n",
    "         'NUMBER_OF_JOBS_PERSONS_2020-21', 'MEDIAN_INCOME_PERSONS_2020-21']]"
   ]
  },
  {
   "cell_type": "code",
   "execution_count": 290,
   "metadata": {},
   "outputs": [],
   "source": [
    "df1 = df.drop(columns=['address','suburb','SA2_Name','type'])"
   ]
  },
  {
   "cell_type": "code",
   "execution_count": 291,
   "metadata": {},
   "outputs": [
    {
     "data": {
      "text/plain": [
       "cost                                 1.000000\n",
       "baths                                0.459979\n",
       "cost/(beds+baths)                    0.440213\n",
       "beds                                 0.300913\n",
       "ERP_per_km2_2021                     0.188587\n",
       "num_schools                          0.187166\n",
       "ERP_per_km2_2022                     0.183876\n",
       "ERP_per_km2_2023                     0.178395\n",
       "parking                              0.164154\n",
       "MEDIAN_INCOME_PERSONS_2020-21        0.086419\n",
       "Net_migration_2022_23                0.082477\n",
       "NUMBER_OF_JOBS_PERSONS_2020-21       0.082422\n",
       "ERP_increase_2022_23                 0.064240\n",
       "closest_grocery_distance_km         -0.010240\n",
       "closest_train_station_distance_km   -0.016886\n",
       "Net_migration_2021_22               -0.020340\n",
       "ERP_increase_2021_22                -0.027717\n",
       "closest_hospital_distance_km        -0.087480\n",
       "closest_tram_station_distance_km    -0.095150\n",
       "ERP_increase_2020_21                -0.149103\n",
       "Name: cost, dtype: float64"
      ]
     },
     "execution_count": 291,
     "metadata": {},
     "output_type": "execute_result"
    }
   ],
   "source": [
    "df1.corr()['cost'].sort_values(ascending=False)"
   ]
  },
  {
   "cell_type": "code",
   "execution_count": 292,
   "metadata": {},
   "outputs": [
    {
     "data": {
      "text/html": [
       "<div>\n",
       "<style scoped>\n",
       "    .dataframe tbody tr th:only-of-type {\n",
       "        vertical-align: middle;\n",
       "    }\n",
       "\n",
       "    .dataframe tbody tr th {\n",
       "        vertical-align: top;\n",
       "    }\n",
       "\n",
       "    .dataframe thead th {\n",
       "        text-align: right;\n",
       "    }\n",
       "</style>\n",
       "<table border=\"1\" class=\"dataframe\">\n",
       "  <thead>\n",
       "    <tr style=\"text-align: right;\">\n",
       "      <th></th>\n",
       "      <th>Feature</th>\n",
       "      <th>MI with cost</th>\n",
       "    </tr>\n",
       "  </thead>\n",
       "  <tbody>\n",
       "    <tr>\n",
       "      <th>4</th>\n",
       "      <td>cost/(beds+baths)</td>\n",
       "      <td>3.449260</td>\n",
       "    </tr>\n",
       "    <tr>\n",
       "      <th>18</th>\n",
       "      <td>MEDIAN_INCOME_PERSONS_2020-21</td>\n",
       "      <td>0.239812</td>\n",
       "    </tr>\n",
       "    <tr>\n",
       "      <th>10</th>\n",
       "      <td>Net_migration_2022_23</td>\n",
       "      <td>0.220815</td>\n",
       "    </tr>\n",
       "    <tr>\n",
       "      <th>6</th>\n",
       "      <td>closest_tram_station_distance_km</td>\n",
       "      <td>0.220367</td>\n",
       "    </tr>\n",
       "    <tr>\n",
       "      <th>12</th>\n",
       "      <td>ERP_per_km2_2022</td>\n",
       "      <td>0.220088</td>\n",
       "    </tr>\n",
       "    <tr>\n",
       "      <th>9</th>\n",
       "      <td>Net_migration_2021_22</td>\n",
       "      <td>0.217815</td>\n",
       "    </tr>\n",
       "    <tr>\n",
       "      <th>11</th>\n",
       "      <td>ERP_per_km2_2021</td>\n",
       "      <td>0.217676</td>\n",
       "    </tr>\n",
       "    <tr>\n",
       "      <th>16</th>\n",
       "      <td>ERP_increase_2022_23</td>\n",
       "      <td>0.214597</td>\n",
       "    </tr>\n",
       "    <tr>\n",
       "      <th>13</th>\n",
       "      <td>ERP_per_km2_2023</td>\n",
       "      <td>0.213240</td>\n",
       "    </tr>\n",
       "    <tr>\n",
       "      <th>15</th>\n",
       "      <td>ERP_increase_2021_22</td>\n",
       "      <td>0.211654</td>\n",
       "    </tr>\n",
       "    <tr>\n",
       "      <th>17</th>\n",
       "      <td>NUMBER_OF_JOBS_PERSONS_2020-21</td>\n",
       "      <td>0.210762</td>\n",
       "    </tr>\n",
       "    <tr>\n",
       "      <th>14</th>\n",
       "      <td>ERP_increase_2020_21</td>\n",
       "      <td>0.210376</td>\n",
       "    </tr>\n",
       "    <tr>\n",
       "      <th>3</th>\n",
       "      <td>baths</td>\n",
       "      <td>0.138437</td>\n",
       "    </tr>\n",
       "    <tr>\n",
       "      <th>2</th>\n",
       "      <td>beds</td>\n",
       "      <td>0.136033</td>\n",
       "    </tr>\n",
       "    <tr>\n",
       "      <th>7</th>\n",
       "      <td>closest_hospital_distance_km</td>\n",
       "      <td>0.118396</td>\n",
       "    </tr>\n",
       "    <tr>\n",
       "      <th>8</th>\n",
       "      <td>closest_grocery_distance_km</td>\n",
       "      <td>0.113445</td>\n",
       "    </tr>\n",
       "    <tr>\n",
       "      <th>5</th>\n",
       "      <td>closest_train_station_distance_km</td>\n",
       "      <td>0.105632</td>\n",
       "    </tr>\n",
       "    <tr>\n",
       "      <th>1</th>\n",
       "      <td>num_schools</td>\n",
       "      <td>0.065070</td>\n",
       "    </tr>\n",
       "    <tr>\n",
       "      <th>0</th>\n",
       "      <td>parking</td>\n",
       "      <td>0.039944</td>\n",
       "    </tr>\n",
       "  </tbody>\n",
       "</table>\n",
       "</div>"
      ],
      "text/plain": [
       "                              Feature  MI with cost\n",
       "4                   cost/(beds+baths)      3.449260\n",
       "18      MEDIAN_INCOME_PERSONS_2020-21      0.239812\n",
       "10              Net_migration_2022_23      0.220815\n",
       "6    closest_tram_station_distance_km      0.220367\n",
       "12                   ERP_per_km2_2022      0.220088\n",
       "9               Net_migration_2021_22      0.217815\n",
       "11                   ERP_per_km2_2021      0.217676\n",
       "16               ERP_increase_2022_23      0.214597\n",
       "13                   ERP_per_km2_2023      0.213240\n",
       "15               ERP_increase_2021_22      0.211654\n",
       "17     NUMBER_OF_JOBS_PERSONS_2020-21      0.210762\n",
       "14               ERP_increase_2020_21      0.210376\n",
       "3                               baths      0.138437\n",
       "2                                beds      0.136033\n",
       "7        closest_hospital_distance_km      0.118396\n",
       "8         closest_grocery_distance_km      0.113445\n",
       "5   closest_train_station_distance_km      0.105632\n",
       "1                         num_schools      0.065070\n",
       "0                             parking      0.039944"
      ]
     },
     "execution_count": 292,
     "metadata": {},
     "output_type": "execute_result"
    }
   ],
   "source": [
    "# Select the column of interest (e.g., 'feature1')\n",
    "column_of_interest = df['cost']\n",
    "\n",
    "# Other features\n",
    "other_features = df1.drop(columns=['cost'])\n",
    "\n",
    "# Calculate MI between 'feature1' and other features for classification\n",
    "mi_scores = []\n",
    "for column in other_features.columns:\n",
    "    mi = mutual_info_regression(df[[column_of_interest.name]], df[column])\n",
    "    mi_scores.append((column, mi[0]))\n",
    "\n",
    "# Convert MI scores to DataFrame for better readability\n",
    "mi_df = pd.DataFrame(mi_scores, columns=['Feature', 'MI with cost'])\n",
    "mi_df.sort_values('MI with cost', ascending=False)"
   ]
  },
  {
   "cell_type": "code",
   "execution_count": 293,
   "metadata": {},
   "outputs": [
    {
     "data": {
      "text/plain": [
       "47"
      ]
     },
     "execution_count": 293,
     "metadata": {},
     "output_type": "execute_result"
    }
   ],
   "source": [
    "subs = df['SA2_Name'].value_counts()\n",
    "subs = subs[subs >= THRESHOLD].index\n",
    "\n",
    "len(subs)"
   ]
  },
  {
   "cell_type": "code",
   "execution_count": 294,
   "metadata": {},
   "outputs": [],
   "source": [
    "df = df[df['SA2_Name'].isin(subs)]"
   ]
  },
  {
   "cell_type": "code",
   "execution_count": 295,
   "metadata": {},
   "outputs": [
    {
     "data": {
      "text/plain": [
       "np.int64(4430)"
      ]
     },
     "execution_count": 295,
     "metadata": {},
     "output_type": "execute_result"
    }
   ],
   "source": [
    "df['suburb'].count()"
   ]
  },
  {
   "cell_type": "code",
   "execution_count": 296,
   "metadata": {},
   "outputs": [],
   "source": [
    "df['type'] = df['type'].apply(lambda x: 0 if x == 'House' else 1)   "
   ]
  },
  {
   "cell_type": "code",
   "execution_count": 297,
   "metadata": {},
   "outputs": [],
   "source": [
    "# Create a mapping dictionary\n",
    "mapping = {category: index for index, category in enumerate(df['SA2_Name'].unique())}\n",
    "\n",
    "# Map the categorical variable to numerical indices\n",
    "df['map_SA2_Name'] = df['SA2_Name'].map(mapping)"
   ]
  },
  {
   "cell_type": "code",
   "execution_count": 298,
   "metadata": {},
   "outputs": [],
   "source": [
    "from sklearn.preprocessing import StandardScaler, Normalizer\n",
    "exclude_columns = ['parking', 'type', 'num_schools', 'beds', 'baths', 'map_SA2_Name']\n",
    "\n",
    "\n",
    "X = df.drop(columns=['address', 'suburb', 'SA2_Name', 'cost/(beds+baths)'])\n",
    "# Select columns to scale\n",
    "columns_to_scale = [col for col in X.columns if col not in exclude_columns]\n",
    "\n",
    "# Initialize the StandardScaler\n",
    "scaler = Normalizer()\n",
    "\n",
    "# Scale the selected columns\n",
    "X[columns_to_scale] = scaler.fit_transform(X[columns_to_scale])\n",
    "\n",
    "y = df['cost']\n",
    "X = X.drop(columns=['cost'])\n",
    "\n",
    "\n",
    "lst = []\n",
    "for i in X.columns:\n",
    "    if 'closest' in i:\n",
    "        lst.append(i)\n",
    "\n",
    "# X1 = X[['beds', 'baths', 'parking', 'type', 'num_schools'] + lst]\n",
    "\n"
   ]
  },
  {
   "cell_type": "code",
   "execution_count": 299,
   "metadata": {},
   "outputs": [
    {
     "data": {
      "text/plain": [
       "Index(['address', 'suburb', 'SA2_Name', 'parking', 'type', 'num_schools',\n",
       "       'cost', 'beds', 'baths', 'cost/(beds+baths)',\n",
       "       'closest_train_station_distance_km', 'closest_tram_station_distance_km',\n",
       "       'closest_hospital_distance_km', 'closest_grocery_distance_km',\n",
       "       'Net_migration_2021_22', 'Net_migration_2022_23', 'ERP_per_km2_2021',\n",
       "       'ERP_per_km2_2022', 'ERP_per_km2_2023', 'ERP_increase_2020_21',\n",
       "       'ERP_increase_2021_22', 'ERP_increase_2022_23',\n",
       "       'NUMBER_OF_JOBS_PERSONS_2020-21', 'MEDIAN_INCOME_PERSONS_2020-21',\n",
       "       'map_SA2_Name'],\n",
       "      dtype='object')"
      ]
     },
     "execution_count": 299,
     "metadata": {},
     "output_type": "execute_result"
    }
   ],
   "source": [
    "df.columns"
   ]
  },
  {
   "cell_type": "code",
   "execution_count": 300,
   "metadata": {},
   "outputs": [],
   "source": [
    "\n",
    "X_train, X_test, y_train, y_test = train_test_split(X, y, test_size=0.2, random_state=42, stratify=df['map_SA2_Name'])"
   ]
  },
  {
   "cell_type": "code",
   "execution_count": 301,
   "metadata": {},
   "outputs": [
    {
     "data": {
      "text/plain": [
       "Index(['beds', 'baths', 'parking', 'type', 'num_schools',\n",
       "       'closest_train_station_distance_km', 'closest_tram_station_distance_km',\n",
       "       'closest_hospital_distance_km', 'closest_grocery_distance_km'],\n",
       "      dtype='object')"
      ]
     },
     "execution_count": 301,
     "metadata": {},
     "output_type": "execute_result"
    }
   ],
   "source": [
    "X1.columns\n",
    "\n",
    "#X1 = X[['beds', 'baths', 'map_SA2_Name', 'parking']]"
   ]
  },
  {
   "cell_type": "code",
   "execution_count": 302,
   "metadata": {},
   "outputs": [
    {
     "name": "stdout",
     "output_type": "stream",
     "text": [
      "182.9581081712329\n",
      "R² Score: 0.5474465352529613\n"
     ]
    }
   ],
   "source": [
    "model = LinearRegression()\n",
    "\n",
    "model.fit(X_train, y_train)\n",
    "\n",
    "y_pred = model.predict(X_test)\n",
    "\n",
    "rmse = root_mean_squared_error(y_test, y_pred)\n",
    "r2 = r2_score(y_test, y_pred)\n",
    "\n",
    "print(root_mean_squared_error(y_test, y_pred))\n",
    "print(f\"R² Score: {r2}\")"
   ]
  },
  {
   "cell_type": "code",
   "execution_count": 303,
   "metadata": {},
   "outputs": [
    {
     "name": "stdout",
     "output_type": "stream",
     "text": [
      "171.82497918804472\n",
      "R² Score: 0.5527927004802953\n"
     ]
    }
   ],
   "source": [
    "y_pred_train = model.predict(X_train)\n",
    "print(root_mean_squared_error(y_train, y_pred_train))\n",
    "print(f\"R² Score: {r2_score(y_train, y_pred_train)}\")\n",
    "\n"
   ]
  },
  {
   "cell_type": "code",
   "execution_count": 304,
   "metadata": {},
   "outputs": [
    {
     "name": "stdout",
     "output_type": "stream",
     "text": [
      "Test rmse: 110.41930913276477\n",
      "Test R² Score: 0.8351622706589903\n",
      "Train rmse: 39.79785529974337\n",
      "Train R² Score: 0.9760085983768969\n"
     ]
    }
   ],
   "source": [
    "rf = RandomForestRegressor()\n",
    "rf.fit(X_train, y_train)    \n",
    "y_pred_2 = rf.predict(X_test)\n",
    "y_pred_t = rf.predict(X_train)\n",
    "\n",
    "mse = root_mean_squared_error(y_test, y_pred_2)\n",
    "r2 = r2_score(y_test, y_pred_2)\n",
    "\n",
    "print(f\"Test rmse: {root_mean_squared_error(y_test, y_pred_2)}\")\n",
    "print(f\"Test R² Score: {r2}\")\n",
    "\n",
    "print(f\"Train rmse: {root_mean_squared_error(y_train, y_pred_t)}\")\n",
    "print(f\"Train R² Score: {r2_score(y_train, y_pred_t)}\")\n",
    "#print(rf.score(X, y))\n",
    "\n"
   ]
  },
  {
   "cell_type": "code",
   "execution_count": null,
   "metadata": {},
   "outputs": [],
   "source": []
  }
 ],
 "metadata": {
  "kernelspec": {
   "display_name": ".venv",
   "language": "python",
   "name": "python3"
  },
  "language_info": {
   "codemirror_mode": {
    "name": "ipython",
    "version": 3
   },
   "file_extension": ".py",
   "mimetype": "text/x-python",
   "name": "python",
   "nbconvert_exporter": "python",
   "pygments_lexer": "ipython3",
   "version": "3.10.12"
  }
 },
 "nbformat": 4,
 "nbformat_minor": 2
}
