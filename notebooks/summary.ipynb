{
 "cells": [
  {
   "cell_type": "markdown",
   "metadata": {},
   "source": [
    "# 1. Introduction\n",
    "This project aims to predict rental prices across Victoria, Australia, using a Machine Learning model that integrates property features and geospatial data. By analyzing current and historical rental price trends, the goal is to provide predictions and highlight key factors influencing rental demand across metropolitan and regional areas.\n",
    "\n",
    "The model leverages property data scraped from domain.com.au and external datasets such as proximity to public transport and essential services. The project provides a 3-year rental price forecast, which can be used by real estate agencies, property investors, and renters to make informed decisions."
   ]
  },
  {
   "cell_type": "markdown",
   "metadata": {},
   "source": [
    "# 2. Data Collection and Preprocessing\n",
    "### Data Sources\n",
    "**Property data:** Scraped from domain.com.au, including rental prices, property characteristics (bedrooms, bathrooms, parking), and descriptions.\n",
    "\n",
    "**Essential services:** PTV dataset: closest public transport stations. OPM dataset: essential services (healthcare, groceries). Leveraging openrouteservice API to get the coordinates of each properties in the dataset.\n",
    "\n",
    "**Income data:** from 2016 to 2021, collected from abs.gov.au, spatially separated by SA2 (Statistical Area Level 2) system.\n",
    "\n",
    "**Population data:** from 2001-2023, collected from abs.gov.au, spatially separated by SA2 (Statistical Area Level 2) system.\n",
    "\n",
    "### Data Cleaning\n",
    "Missing values were removed, irregular price formats were standardized to weekly rate, and duplicates were dropped.\n",
    "\n",
    "### Feature Engineering\n",
    "New features, such as distance to the nearest tram station, train station, hospital, grocery store, and number of nearby schools, were added to improve prediction accuracy.\n",
    "\n",
    "The number of bedrooms and bathrooms was extracted from property descriptions to serve as key predictors."
   ]
  },
  {
   "cell_type": "markdown",
   "metadata": {},
   "source": [
    "# 3. Modelling and Predictions\n",
    "### Model Selection\n",
    "We experimented with machine learning models which are Linear Regression, Random Forest Regressor. ased on performance metrics, Random Forest Regressor was chosen for its better accuracy in handling the non-linear relationships present in the dataset.\n",
    "### Training and Testing\n",
    "Stratified sampling with threshold of 50 properties for each suburb.\n",
    "\n",
    "Split ratio 80-20.\n",
    "### Evaluation Metrics\n",
    "Mean absolute error (MAE).\n",
    "\n",
    "Root mean square error (RMSE).\n",
    "\n",
    "$R^{2}$: Variance explainability of the independent variables.\n",
    "### Feature Importance\n",
    "Feature importance analysis revealed that proximity to tram stations, number of bedrooms, and bathrooms were the most critical features in predicting rental prices."
   ]
  },
  {
   "cell_type": "markdown",
   "metadata": {},
   "source": [
    "# 4. Assumptions\n",
    "The project assumes that current infrastructure and population growth trends will continue in the forecast period, and there are no significant shifts due to policy changes, economic downturns, or other unforeseen events. "
   ]
  },
  {
   "cell_type": "markdown",
   "metadata": {},
   "source": [
    "# 5. Limitations\n",
    "The model does not account for external economic conditions, such as changes in interest rates or unemployment, which could significantly impact rental prices.\n",
    "\n",
    "There may still be regional variability in the predictions, as factors such as future infrastructure developments and migration patterns can be unpredictable."
   ]
  },
  {
   "cell_type": "markdown",
   "metadata": {},
   "source": [
    "# 6. Issues & Challenges"
   ]
  }
 ],
 "metadata": {
  "language_info": {
   "name": "python"
  }
 },
 "nbformat": 4,
 "nbformat_minor": 2
}
