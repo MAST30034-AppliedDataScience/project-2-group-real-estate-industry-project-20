{
 "cells": [
  {
   "cell_type": "code",
   "execution_count": 1,
   "metadata": {},
   "outputs": [],
   "source": [
    "import pandas as pd\n",
    "import geopandas as gpd\n",
    "import openrouteservice as ors\n",
    "import folium\n",
    "import sys\n",
    "import concurrent.futures\n",
    "from tqdm import tqdm\n",
    "from threading import Semaphore\n",
    "import json\n",
    "import folium\n",
    "import openrouteservice\n",
    "import json\n",
    "import time\n",
    "import openrouteservice\n",
    "import geopandas as gpd\n",
    "import folium\n",
    "from shapely.geometry import Point\n",
    "from shapely.geometry import shape\n",
    "from geopy.distance import geodesic\n",
    "from shapely import wkt\n",
    "from openrouteservice.exceptions import ApiError\n",
    "sys.path.append('../scripts')\n",
    "from utilities import get_vic_subs_as_csv"
   ]
  },
  {
   "cell_type": "code",
   "execution_count": 2,
   "metadata": {},
   "outputs": [],
   "source": [
    "client = ors.Client(key='5b3ce3597851110001cf624828f2b63314b24af798ed8608d8464d19')"
   ]
  },
  {
   "cell_type": "code",
   "execution_count": 3,
   "metadata": {},
   "outputs": [
    {
     "name": "stdout",
     "output_type": "stream",
     "text": [
      "    State                           Hospital name Establishment ID  \\\n",
      "0     VIC   Albury Wodonga Health [Albury Campus]        210N01650   \n",
      "1     VIC  Albury Wodonga Health [Wodonga Campus]        210401660   \n",
      "2     VIC             Alexandra District Hospital        210403010   \n",
      "3     VIC                  Alpine Health [Bright]        210401882   \n",
      "4     VIC            Alpine Health [Mount Beauty]        210401883   \n",
      "..    ...                                     ...              ...   \n",
      "147   VIC                   Womens at Sandringham        210A01232   \n",
      "148   VIC                     Yarra Ranges Health        210803690   \n",
      "149   VIC        Yarram & District Health Service        210501770   \n",
      "150   VIC      Yarrawonga District Health Service        210401780   \n",
      "151   VIC        Yea & District Memorial Hospital        210403590   \n",
      "\n",
      "    Medicare Provider No.  Local Hospital Network identifier  \\\n",
      "0                0010560W                                249   \n",
      "1                0031390A                                249   \n",
      "2                0030010T                                233   \n",
      "3                0031740W                                245   \n",
      "4                0031190J                                245   \n",
      "..                    ...                                ...   \n",
      "147                   NaN                                224   \n",
      "148              0031990Y                                234   \n",
      "149              0031430J                                257   \n",
      "150              0031440H                                244   \n",
      "151              0031450F                                242   \n",
      "\n",
      "                 Local Hospital Network  \\\n",
      "0                 Albury Wodonga Health   \n",
      "1                 Albury Wodonga Health   \n",
      "2           Alexandra District Hospital   \n",
      "3                   Alpine Health (Vic)   \n",
      "4                   Alpine Health (Vic)   \n",
      "..                                  ...   \n",
      "147  Royal Women's Hospital (Melbourne)   \n",
      "148                Eastern Health (Vic)   \n",
      "149  Yarram and District Health Service   \n",
      "150  Yarrawonga District Health Service   \n",
      "151  Yea and District Memorial Hospital   \n",
      "\n",
      "                                        Address Line 1  \\\n",
      "0    201    Borella                                ...   \n",
      "1    69     Vermont                                ...   \n",
      "2    12     Cooper                                 ...   \n",
      "3    36     Cobden                                 ...   \n",
      "4    2      Hollonds                               ...   \n",
      "..                                                 ...   \n",
      "147  193    Bluff?                                 ...   \n",
      "148  25     Market                                 ...   \n",
      "149  85     Commercial                             ...   \n",
      "150  33     Piper                                  ...   \n",
      "151  45     Station                                ...   \n",
      "\n",
      "                                        Address Line 2  asgc_ra  \\\n",
      "0    Albury                                        ...        1   \n",
      "1    Wodonga                                       ...        1   \n",
      "2    Alexandra                                     ...        1   \n",
      "3    Bright                                        ...        2   \n",
      "4    Mt Beauty                                     ...        2   \n",
      "..                                                 ...      ...   \n",
      "147  Sandringham?                                  ...        0   \n",
      "148  Lilydale                                      ...        0   \n",
      "149  Yarram                                        ...        1   \n",
      "150  Yarrawonga                                    ...        1   \n",
      "151  Yea                                           ...        1   \n",
      "\n",
      "    Remoteness area  Number of available beds 2012-13 Peer Group code  \\\n",
      "0    Inner Regional                     158.2                       L   \n",
      "1    Inner Regional                     132.3                       M   \n",
      "2    Inner Regional                      31.0                      S1   \n",
      "3    Outer Regional                       9.0                      S1   \n",
      "4    Outer Regional                      10.0                      S2   \n",
      "..              ...                       ...                     ...   \n",
      "147    Major Cities                      28.0                      W1   \n",
      "148    Major Cities                      16.0                      O4   \n",
      "149  Inner Regional                      22.0                      S2   \n",
      "150  Inner Regional                      29.0                      S1   \n",
      "151  Inner Regional                      10.0                      S2   \n",
      "\n",
      "                  Peer Group Name Provided data for NPHED  \\\n",
      "0            Public acute group A                     Yes   \n",
      "1            Public acute group B                     Yes   \n",
      "2            Public acute group C                     Yes   \n",
      "3            Public acute group C                     Yes   \n",
      "4            Public acute group D                     Yes   \n",
      "..                            ...                     ...   \n",
      "147                        Womens                     Yes   \n",
      "148  Other day procedure hospital                     Yes   \n",
      "149          Public acute group D                     Yes   \n",
      "150          Public acute group C                     Yes   \n",
      "151          Public acute group D                     Yes   \n",
      "\n",
      "    Provided data for NHMD Provided data for NAPEDCD Provided data for ESWT  \\\n",
      "0                      Yes                       Yes                     No   \n",
      "1                      Yes                       Yes                     No   \n",
      "2                      Yes                        No                     No   \n",
      "3                      Yes                        No                     No   \n",
      "4                      Yes                        No                     No   \n",
      "..                     ...                       ...                    ...   \n",
      "147                    Yes                        No                    Yes   \n",
      "148                    Yes                        No                     No   \n",
      "149                    Yes                        No                     No   \n",
      "150                    Yes                        No                     No   \n",
      "151                    Yes                        No                     No   \n",
      "\n",
      "    Provided data for NNAPCD        IHPA funding designation  \n",
      "0                        Yes  Activity-based funded hospital  \n",
      "1                        Yes  Activity-based funded hospital  \n",
      "2                        Yes           Block-funded hospital  \n",
      "3                        Yes           Block-funded hospital  \n",
      "4                        Yes           Block-funded hospital  \n",
      "..                       ...                             ...  \n",
      "147                      Yes  Activity-based funded hospital  \n",
      "148                      Yes  Activity-based funded hospital  \n",
      "149                      Yes           Block-funded hospital  \n",
      "150                      Yes           Block-funded hospital  \n",
      "151                       No           Block-funded hospital  \n",
      "\n",
      "[152 rows x 19 columns]\n"
     ]
    }
   ],
   "source": [
    "df = pd.read_csv('../data/raw/public_hospital_list.csv')\n",
    "\n",
    "# Filter the DataFrame for rows where the State is 'VIC'\n",
    "vic_hospitals = df[df['State'] == 'VIC'].reset_index(drop=True)\n",
    "\n",
    "# Display the filtered DataFrame\n",
    "print(vic_hospitals)"
   ]
  },
  {
   "cell_type": "code",
   "execution_count": 4,
   "metadata": {},
   "outputs": [
    {
     "name": "stdout",
     "output_type": "stream",
     "text": [
      "Processed 20 hospitals...\n",
      "Processed 40 hospitals...\n",
      "Processed 60 hospitals...\n",
      "Processed 80 hospitals...\n",
      "Processed 100 hospitals...\n",
      "Processed 120 hospitals...\n",
      "Processed 140 hospitals...\n"
     ]
    }
   ],
   "source": [
    "def get_coordinates(hospital_name):\n",
    "    try:\n",
    "        response = client.pelias_search(hospital_name)\n",
    "        if response['features']:\n",
    "            # Get the first result's coordinates\n",
    "            coords = response['features'][0]['geometry']['coordinates']\n",
    "            return coords  # Returns [longitude, latitude]\n",
    "        else:\n",
    "            return None\n",
    "    except Exception as e:\n",
    "        print(f\"Error retrieving coordinates for {hospital_name}: {e}\")\n",
    "        return None\n",
    "    \n",
    "coordinates = []\n",
    "\n",
    "for index, row in vic_hospitals.iterrows():\n",
    "    coords = get_coordinates(row['Hospital name'])\n",
    "    coordinates.append(coords)\n",
    "    \n",
    "    time.sleep(0.4)\n",
    "    if (index + 1) % 20 == 0:\n",
    "        print(f\"Processed {index + 1} hospitals...\")"
   ]
  },
  {
   "cell_type": "code",
   "execution_count": 15,
   "metadata": {},
   "outputs": [
    {
     "name": "stdout",
     "output_type": "stream",
     "text": [
      "Coordinates added and saved to vic_hospitals_with_coordinates.csv\n"
     ]
    }
   ],
   "source": [
    "vic_hospitals['geometry'] = coordinates\n",
    "vic_hospitals.at[10, 'geometry'] = [143.84332896825458, -37.56401250975259]\n",
    "vic_hospitals.at[39, 'geometry'] = [144.43449191243988, -37.67782265184668]\n",
    "vic_hospitals.at[59, 'geometry'] = [143.9855122817767, -38.24337478257656]\n",
    "vic_hospitals.at[140, 'geometry'] = [141.69262555076315, -37.59981379485332]\n",
    "vic_hospitals.at[141, 'geometry'] = [142.030389056623, -37.73705834823031]\n",
    "vic_hospitals.at[142, 'geometry'] = [142.28209656248157, -37.87711339669303]\n",
    "vic_hospitals.to_csv('../data/raw/vic_hospitals_with_coordinates.csv', index=False)\n",
    "\n",
    "print(\"Coordinates added and saved to vic_hospitals_with_coordinates.csv\")\n"
   ]
  },
  {
   "cell_type": "code",
   "execution_count": 16,
   "metadata": {},
   "outputs": [
    {
     "data": {
      "text/plain": [
       "list"
      ]
     },
     "execution_count": 16,
     "metadata": {},
     "output_type": "execute_result"
    }
   ],
   "source": [
    "type(vic_hospitals.iloc[59]['geometry'])"
   ]
  },
  {
   "cell_type": "code",
   "execution_count": 24,
   "metadata": {},
   "outputs": [],
   "source": [
    "hospital_coordinates = []\n",
    "\n",
    "for index, row in vic_hospitals.iterrows():\n",
    "    geometry = row['geometry']\n",
    "    \n",
    "    # Check if geometry is a list and has the correct length\n",
    "    if isinstance(geometry, list) and len(geometry) == 2:\n",
    "        longitude = geometry[0]\n",
    "        latitude = geometry[1]\n",
    "        hospital_coordinates.append({\n",
    "            'name': row['Hospital name'],\n",
    "            'coordinates': (latitude, longitude)\n",
    "        })\n",
    "    else:\n",
    "        print(f\"Invalid geometry format for hospital: {row['Hospital name']}, geometry: {geometry}\")\n"
   ]
  },
  {
   "cell_type": "code",
   "execution_count": 25,
   "metadata": {},
   "outputs": [
    {
     "name": "stdout",
     "output_type": "stream",
     "text": [
      "[{'name': 'Albury Wodonga Health [Albury Campus]', 'coordinates': (-36.074771, 146.914504)}, {'name': 'Albury Wodonga Health [Wodonga Campus]', 'coordinates': (-36.1039, 146.90042)}, {'name': 'Alexandra District Hospital', 'coordinates': (32.833162, -96.951322)}, {'name': 'Alpine Health [Bright]', 'coordinates': (-36.726793, 146.964284)}, {'name': 'Alpine Health [Mount Beauty]', 'coordinates': (-36.7436, 147.169727)}, {'name': 'Alpine Health [Myrtleford]', 'coordinates': (-36.554277, 146.714166)}, {'name': 'Angliss Hospital', 'coordinates': (-37.898645, 145.314467)}, {'name': 'Austin Hospital [Heidelberg]', 'coordinates': (-37.753927, 145.047895)}, {'name': 'Bairnsdale Regional Health Service', 'coordinates': (-37.831508, 147.607868)}, {'name': 'Ballarat Health Services [Base Campus]', 'coordinates': (35.054623, -106.622997)}, {'name': 'Ballarat Health Services [Queen Elizabet', 'coordinates': (-37.56401250975259, 143.84332896825458)}, {'name': 'Bass Coast Regional Health', 'coordinates': (-38.504762, 145.577123)}, {'name': 'Beaufort & Skipton Health Service [Beauf', 'coordinates': (-37.680808, 143.357764)}, {'name': 'Beaufort & Skipton Health Service [Skipt', 'coordinates': (-37.680808, 143.357764)}, {'name': 'Beechworth Health Service', 'coordinates': (-36.349118, 146.690751)}, {'name': 'Benalla & District Memorial Hospital', 'coordinates': (-36.554541, 145.995166)}, {'name': 'Bendigo Health Care Group [Anne Caudle]', 'coordinates': (34.666763, -116.979649)}, {'name': 'Boort District Health', 'coordinates': (-36.111779, 143.72735)}, {'name': 'Box Hill Hospital', 'coordinates': (-37.813617, 145.118404)}, {'name': 'Broadmeadows Health Service', 'coordinates': (-37.684639, 144.912769)}, {'name': 'Bundoora Extended Care Centre', 'coordinates': (-37.695471, 145.063341)}, {'name': 'Calvary Health Care Bethlehem', 'coordinates': (50.973774, 6.835269)}, {'name': 'Caritas Christi Hospice [Kew]', 'coordinates': (-37.804498, 145.015858)}, {'name': 'Casey Hospital', 'coordinates': (-38.045094, 145.34669)}, {'name': 'Casterton Memorial Hospital', 'coordinates': (-37.590313, 141.392378)}, {'name': 'Castlemaine Health', 'coordinates': (-37.057059, 144.218117)}, {'name': 'Caulfield Hospital', 'coordinates': (-37.882166, 145.01716)}, {'name': 'Central Gippsland Health Service [Maffra', 'coordinates': (-37.960817, 146.983777)}, {'name': 'Central Gippsland Health Service [Sale]', 'coordinates': (-38.108708, 147.080964)}, {'name': 'Cobram District Hospital', 'coordinates': (-35.915547, 145.65057)}, {'name': 'Cohuna District Hospital', 'coordinates': (-35.800424, 144.214853)}, {'name': 'Colac Area Health', 'coordinates': (-38.49306, 143.601837)}, {'name': 'Craigieburn Health Service', 'coordinates': (-37.595648, 144.919672)}, {'name': 'Cranbourne Integrated Care Centre', 'coordinates': (-38.11342, 145.28326)}, {'name': 'Creswick District Hospital', 'coordinates': (32.833162, -96.951322)}, {'name': 'Dandenong Campus', 'coordinates': (-37.97511, 145.219623)}, {'name': 'Daylesford District Hospital', 'coordinates': (32.833162, -96.951322)}, {'name': 'Dental Health Services Victoria', 'coordinates': (40.344682, -75.972526)}, {'name': 'Dimboola District Hospital', 'coordinates': (32.833162, -96.951322)}, {'name': 'Djerriwarrh Health Service [Bacchus Mars', 'coordinates': (-37.67782265184668, 144.43449191243988)}, {'name': 'East Grampians Health Service [Ararat]', 'coordinates': (-37.27852, 142.933091)}, {'name': 'East Grampians Health Service [Willaura]', 'coordinates': (-37.27852, 142.933091)}, {'name': 'East Wimmera Health Service [Birchip]', 'coordinates': (-35.980191, 142.915981)}, {'name': 'East Wimmera Health Service [Charlton]', 'coordinates': (-36.268436, 143.352207)}, {'name': 'East Wimmera Health Service [Donald]', 'coordinates': (-36.366592, 142.976342)}, {'name': 'East Wimmera Health Service [St Arnaud]', 'coordinates': (-36.608717, 143.246219)}, {'name': 'East Wimmera Health Service [Wycheproof]', 'coordinates': (-35.980191, 142.915981)}, {'name': 'Echuca Regional Health', 'coordinates': (-36.129592, 144.750017)}, {'name': 'Edenhope and District Memorial Hospital', 'coordinates': (-37.035302, 141.289166)}, {'name': 'Frankston Hospital', 'coordinates': (-38.151358, 145.129105)}, {'name': 'Gippsland Southern Health Service - Koru', 'coordinates': (-38.430353, 145.8282)}, {'name': 'Gippsland Southern Health Service - Leon', 'coordinates': (-38.430353, 145.8282)}, {'name': 'Golf Links Road Rehabilitation Centre', 'coordinates': (-38.172723, 145.149216)}, {'name': 'Goulburn Valley Health [Shepparton]', 'coordinates': (-36.33978, 145.40221)}, {'name': 'Goulburn Valley Health [Tatura]', 'coordinates': (-37.152249, 145.649761)}, {'name': 'Goulburn Valley Health [Waranga]', 'coordinates': (-37.152249, 145.649761)}, {'name': 'Healesville and District Hospital', 'coordinates': (-37.646925, 145.529012)}, {'name': 'Heathcote Health', 'coordinates': (-34.083286, 151.002074)}, {'name': 'Heidelberg Repatriation Hospital [Heidel', 'coordinates': (-37.753927, 145.047895)}, {'name': 'Hesse Rural Health Service [Winchelsea]', 'coordinates': (-38.24337478257656, 143.9855122817767)}, {'name': 'Heywood Rural Health', 'coordinates': (53.592634, -2.21966)}, {'name': 'Inglewood & District Health Service', 'coordinates': (51.313987, -0.583033)}, {'name': 'Kerang District Health', 'coordinates': (-35.723967, 143.918086)}, {'name': 'Kingston Centre [Cheltenham]', 'coordinates': (53.263241, -9.102526)}, {'name': 'Kooweerup Regional Health Service', 'coordinates': (44.778193, -94.152265)}, {'name': 'Kyabram & District Health Service', 'coordinates': (-37.628277, 145.026845)}, {'name': 'Kyneton District Health Service', 'coordinates': (-37.254615, 144.469407)}, {'name': 'Latrobe Regional Hospital [Traralgon]', 'coordinates': (-38.217954, 146.470649)}, {'name': 'Lorne Community Hospital', 'coordinates': (-38.545442, 143.980425)}, {'name': 'Maldon Hospital', 'coordinates': (-36.992834, 144.063668)}, {'name': 'Mallee Track Health & Community Service', 'coordinates': (-34.841522, 139.445353)}, {'name': 'Mallee Track Health & Community Service', 'coordinates': (-34.841522, 139.445353)}, {'name': 'Manangatang & District Hospital', 'coordinates': (-34.484845, 150.423248)}, {'name': 'Mansfield District Hospital', 'coordinates': (-37.057533, 146.086085)}, {'name': 'Maroondah Hospital [East Ringwood]', 'coordinates': (-37.80693, 145.254642)}, {'name': 'Maryborough District Health Service [Dun', 'coordinates': (51.661913, -114.123765)}, {'name': 'Maryborough District Health Service [Mar', 'coordinates': (51.661913, -114.123765)}, {'name': 'McKellar Centre [Geelong]', 'coordinates': (-38.118265, 144.336761)}, {'name': 'Melton Health', 'coordinates': (-37.684986, 144.588885)}, {'name': \"Mercy Health - O'Connell Family Centre\", 'coordinates': (11.64889, 76.039801)}, {'name': 'Mercy Hospital for Women', 'coordinates': (-37.755895, 145.060946)}, {'name': 'Mercy Public Hospital [Werribee]', 'coordinates': (-37.886628, 144.699288)}, {'name': 'Mildura Base Hospital', 'coordinates': (-34.186166, 142.143292)}, {'name': 'Monash Medical Centre [Clayton]', 'coordinates': (-37.920931, 145.120703)}, {'name': 'Monash Medical Centre [Moorabbin]', 'coordinates': (-37.920931, 145.120703)}, {'name': 'Moyne Health Services [Port Fairy]', 'coordinates': (47.966839, -89.680384)}, {'name': 'Nathalia District Hospital', 'coordinates': (-36.054862, 145.204754)}, {'name': 'Northeast Health Wangaratta', 'coordinates': (-36.353874, 146.313124)}, {'name': 'Numurkah & District Health Service', 'coordinates': (-35.972389, 145.478464)}, {'name': 'Omeo District Health', 'coordinates': (-37.098372, 147.597038)}, {'name': 'Orbost Regional Health', 'coordinates': (-37.69951, 148.462745)}, {'name': 'Orygen Inpatient Unit', 'coordinates': (53.277771, -8.985407)}, {'name': 'Otway Health [Apollo Bay]', 'coordinates': (-38.753188, 143.659293)}, {'name': 'Peter MacCallum Cancer Institute', 'coordinates': (-37.800388, 144.956785)}, {'name': 'Portland District Health', 'coordinates': (50.60935, -2.45539)}, {'name': 'Queen Elizabeth Centre [Noble Park]', 'coordinates': (-37.97203, 145.178321)}, {'name': 'Robinvale District Health Services', 'coordinates': (-34.584134, 142.781497)}, {'name': 'Rochester & Elmore District Health Servi', 'coordinates': (32.74544, -96.745413)}, {'name': 'Rosebud Hospital', 'coordinates': (43.256506, -100.850461)}, {'name': \"Royal Children's Hospital [Parkville]\", 'coordinates': (26.42364, 80.319938)}, {'name': 'Royal Melbourne Hospital [Parkville]', 'coordinates': (-37.799457, 144.956419)}, {'name': 'Royal Melbourne Hospital- Royal Park Cam', 'coordinates': (-37.799457, 144.956419)}, {'name': 'Royal Talbot Rehabilitation Centre [Kew]', 'coordinates': (-37.789744, 145.023574)}, {'name': \"Royal Women's Hospital [Carlton]\", 'coordinates': (-37.798781, 144.955079)}, {'name': 'Rural Northwest Health [Hopetoun]', 'coordinates': (-35.731899, 142.36626)}, {'name': 'Rural Northwest Health [Warracknabeal]', 'coordinates': (-36.252444, 142.382155)}, {'name': 'Sandringham Hospital', 'coordinates': (52.75781, 0.44774)}, {'name': 'Seymour District Memorial Hospital', 'coordinates': (45.087534, -75.354623)}, {'name': 'South Gippsland Hospital [Foster]', 'coordinates': (-38.659286, 146.206791)}, {'name': 'South West Healthcare [Camperdown]', 'coordinates': (28.581025, 76.9781)}, {'name': 'South West Healthcare [Warrnambool]', 'coordinates': (28.581025, 76.9781)}, {'name': \"St George's Health Service- Aged Care\", 'coordinates': (-34.061203, 137.589898)}, {'name': \"St Vincent's Hospital [Fitzroy]\", 'coordinates': (-37.807638, 144.976113)}, {'name': 'Stawell Regional Health', 'coordinates': (-37.061072, 142.77898)}, {'name': 'Sunbury Day Hospital', 'coordinates': (-37.576722, 144.732559)}, {'name': 'Sunshine Hospital', 'coordinates': (-37.758978, 144.816695)}, {'name': 'Swan Hill District Health [Nyah]', 'coordinates': (50.894327, -2.760094)}, {'name': 'Swan Hill District Health [Swan Hill]', 'coordinates': (50.894327, -2.760094)}, {'name': 'Tallangatta Health Service', 'coordinates': (-36.213276, 147.183539)}, {'name': 'Terang & Mortlake Health Service [Terang', 'coordinates': (-38.241753, 142.918394)}, {'name': 'The Alfred', 'coordinates': (42.255079, -77.7906)}, {'name': 'The Bendigo Hospital', 'coordinates': (-36.749666, 144.281172)}, {'name': 'The Kilmore & District Hospital', 'coordinates': (-37.301431, 144.958317)}, {'name': 'The Mornington Centre', 'coordinates': (-38.230021, 145.041515)}, {'name': 'The Northern Hospital [Epping]', 'coordinates': (-37.652949, 145.014258)}, {'name': 'The Peter James Centre [East Burwood]', 'coordinates': (-37.852615, 145.164949)}, {'name': 'The Royal Victorian Eye & Ear Hospital', 'coordinates': (-37.808952, 144.976251)}, {'name': 'Timboon & District Healthcare Service', 'coordinates': (-37.678095, 144.90938)}, {'name': 'Tweddle Child & Family Health Centre [Fo', 'coordinates': (-34.454146, 140.572057)}, {'name': 'University Hospital Geelong', 'coordinates': (40.739949, -74.190253)}, {'name': 'Upper Murray Health & Community Services', 'coordinates': (-36.198762, 147.903059)}, {'name': 'Ursula Frayne Centre (CA)', 'coordinates': (-31.936545, 115.885174)}, {'name': 'Victorian Institute of Forensic Mental H', 'coordinates': (-37.82489, 144.965001)}, {'name': 'Victorian Institute of Forensic Mental H', 'coordinates': (-37.82489, 144.965001)}, {'name': 'Wantirna Health', 'coordinates': (-37.852469, 145.225968)}, {'name': 'West Gippsland Healthcare Group [Warragu', 'coordinates': (-38.160725, 145.933217)}, {'name': 'West Wimmera Health Service [Jeparit]', 'coordinates': (-36.334109, 141.655815)}, {'name': 'West Wimmera Health Service [Kaniva]', 'coordinates': (-36.334109, 141.655815)}, {'name': 'West Wimmera Health Service [Nhill]', 'coordinates': (-36.334109, 141.655815)}, {'name': 'West Wimmera Health Service [Rainbow]', 'coordinates': (-36.334109, 141.655815)}, {'name': 'Western District Health Service [Colerai', 'coordinates': (-37.59981379485332, 141.69262555076315)}, {'name': 'Western District Health Service [Hamilto', 'coordinates': (-37.73705834823031, 142.030389056623)}, {'name': 'Western District Health Service [Penshur', 'coordinates': (-37.87711339669303, 142.28209656248157)}, {'name': 'Western Hospital [Footscray]', 'coordinates': (-37.794268, 144.897673)}, {'name': 'Williamstown Hospital', 'coordinates': (-37.863536, 144.892623)}, {'name': 'Wimmera Base Hospital [Horsham]', 'coordinates': (-36.713072, 142.209085)}, {'name': 'Wimmera Base Hospital [Rupanyup]', 'coordinates': (-36.713072, 142.209085)}, {'name': 'Womens at Sandringham', 'coordinates': (52.409151, 7.979568)}, {'name': 'Yarra Ranges Health', 'coordinates': (-37.75405, 145.642598)}, {'name': 'Yarram & District Health Service', 'coordinates': (-37.925792, 145.11551)}, {'name': 'Yarrawonga District Health Service', 'coordinates': (51.661913, -114.123765)}, {'name': 'Yea & District Memorial Hospital', 'coordinates': (-37.213884, 145.43127)}]\n"
     ]
    }
   ],
   "source": [
    "print(hospital_coordinates)"
   ]
  }
 ],
 "metadata": {
  "kernelspec": {
   "display_name": "Python 3",
   "language": "python",
   "name": "python3"
  },
  "language_info": {
   "codemirror_mode": {
    "name": "ipython",
    "version": 3
   },
   "file_extension": ".py",
   "mimetype": "text/x-python",
   "name": "python",
   "nbconvert_exporter": "python",
   "pygments_lexer": "ipython3",
   "version": "3.12.4"
  }
 },
 "nbformat": 4,
 "nbformat_minor": 2
}
