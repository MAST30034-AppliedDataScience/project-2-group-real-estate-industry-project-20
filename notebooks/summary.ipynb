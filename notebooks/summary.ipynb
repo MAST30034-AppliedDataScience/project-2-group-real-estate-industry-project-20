{
 "cells": [
  {
   "cell_type": "markdown",
   "metadata": {},
   "source": [
    "# 1. Introduction\n",
    "This project aims to predict rental prices across Victoria, Australia, using Machine Learning models that integrates property features and geospatial data. By analyzing current and historical rental price trends, the goal is to provide predictions and highlight key factors influencing rental demand across metropolitan and regional areas.\n",
    "\n",
    "The project leverages property data scraped from domain.com.au and external datasets such as proximity to public transport and essential services. The project provides a 3-year rental price forecast, which can be used by real estate agencies, property investors, and renters to make informed decisions."
   ]
  },
  {
   "cell_type": "markdown",
   "metadata": {},
   "source": [
    "# 2. Data Collection and Preprocessing\n",
    "### Data Sources\n",
    "**Property data:** Scraped from domain.com.au, including rental prices, property characteristics (bedrooms, bathrooms, parking), and descriptions.\n",
    "\n",
    "**Historical data:** Acquired from Department of Families, Fairness and Housing, covers from March 2000 to June 2024 for 231 suburbs\n",
    "\n",
    "**Essential services:** PTV dataset: closest public transport stations. OPM dataset: essential services (healthcare, groceries). Leveraging openrouteservice API to get the coordinates of each properties in the dataset.\n",
    "\n",
    "**Income data:** from 2016 to 2021, collected from abs.gov.au, spatially separated by SA2 (Statistical Area Level 2) system.\n",
    "\n",
    "**Population data:** from 2001-2023, collected from abs.gov.au, spatially separated by SA2 (Statistical Area Level 2) system.\n",
    "\n",
    "### Data Cleaning\n",
    "Missing values were removed, irregular price formats were standardized to weekly rate, and duplicates were dropped.\n",
    "\n",
    "### Feature Engineering\n",
    "New features, such as distance to the nearest tram station, train station, hospital, grocery store, and number of nearby schools, were added to improve prediction accuracy.\n",
    "\n",
    "The number of bedrooms and bathrooms was extracted from property descriptions to serve as key predictors."
   ]
  },
  {
   "cell_type": "markdown",
   "metadata": {},
   "source": [
    "# 3. Modelling and Predictions\n",
    "\n",
    "## 3.1 Rental Price Prediction \n",
    "### Model Selection\n",
    "We experimented with machine learning models which are Linear Regression, Random Forest Regressor. Based on performance metrics, Random Forest Regressor was chosen for its better accuracy in handling the non-linear relationships present in the dataset.\n",
    "### Training and Testing\n",
    "Stratified sampling with threshold of 50 properties for each suburb.\n",
    "\n",
    "Split ratio 80-20.\n",
    "### Evaluation Metrics\n",
    "Mean absolute error (MAE).\n",
    "\n",
    "Root mean square error (RMSE).\n",
    "\n",
    "$R^{2}$: Variance explainability of the independent variables.\n",
    "### Feature Importance\n",
    "Feature importance analysis revealed that proximity to tram stations, number of bedrooms, and bathrooms were the most critical features in predicting rental prices.\n",
    "\n",
    "## 3.2 Future Median Rental Price Prediction\n",
    "### Model selection\n",
    "After visualising price trend from 2000 to 2023, we decided on Linear Regression.\n",
    "### Dataset\n",
    "Filter for data from March 2021 to June 2024, combined with predicted data as data for September 2024.\n",
    "### Prediction\n",
    "Predict future median price for 2025, 2026 and 2027.\n"
   ]
  },
  {
   "cell_type": "markdown",
   "metadata": {},
   "source": [
    "# 4. Assumptions\n",
    "The project assumes that current infrastructure and population growth trends will continue in the forecast period, and there are no significant shifts due to policy changes, economic downturns, or other unforeseen events. "
   ]
  },
  {
   "cell_type": "markdown",
   "metadata": {},
   "source": [
    "# 5. Limitations\n",
    "The model does not account for external economic conditions, such as changes in interest rates or unemployment, which could significantly impact rental prices.\n",
    "\n",
    "There may still be regional variability in the predictions, as factors such as future infrastructure developments and migration patterns can be unpredictable."
   ]
  },
  {
   "cell_type": "markdown",
   "metadata": {},
   "source": [
    "# 6. Issues & Challenges\n",
    "## Dataset integrities\n",
    "The properties data from domain.com.au is not verified since they were manually added by the providers.\n",
    "\n",
    "No data for properites currently being rented.\n",
    "\n",
    "Income and Jobs data are not recently updated.\n",
    "## Model evaluation\n",
    "Threshold of 50 properties per suburb make the dataset quite small and can be insufficient, explained by the high RMSE and MAE.\n",
    "\n",
    " Additionally, MAEs are much smaller than RMSEs for Random Forest model, suggesting outliers in the data.\n"
   ]
  }
 ],
 "metadata": {
  "kernelspec": {
   "display_name": "Python 3.10.4 64-bit ('3.10.4')",
   "language": "python",
   "name": "python3"
  },
  "language_info": {
   "name": "python",
   "version": "3.10.4"
  },
  "vscode": {
   "interpreter": {
    "hash": "6857171c288a27f4076b69feee1624abed3d2b82ff763169396fbbf8c8e33653"
   }
  }
 },
 "nbformat": 4,
 "nbformat_minor": 2
}
