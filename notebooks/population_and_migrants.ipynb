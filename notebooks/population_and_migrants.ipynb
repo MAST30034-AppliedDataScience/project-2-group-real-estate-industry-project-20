{
 "cells": [
  {
   "cell_type": "code",
   "execution_count": null,
   "source": [
    "import os\n",
    "from urllib.request import urlretrieve\n",
    "import zipfile"
   ],
   "outputs": [],
   "metadata": {}
  },
  {
   "cell_type": "code",
   "execution_count": null,
   "source": [
    "# Dowload population data\n",
    "data_url = \"https://www.abs.gov.au/statistics/people/population/regional-population/2022-23/32180_ERP_2023_SA2_GDA2020.zip\"\n",
    "urlretrieve(data_url, \"../data/landing/population.zip\")"
   ],
   "outputs": [],
   "metadata": {}
  },
  {
   "cell_type": "code",
   "execution_count": null,
   "source": [
    "# Extract the contents of the zip file\n",
    "with zipfile.ZipFile(\"../data/landing/population.zip\", 'r') as zip_ref:\n",
    "    zip_ref.extractall(\"../data/population/\")"
   ],
   "outputs": [],
   "metadata": {}
  },
  {
   "cell_type": "code",
   "execution_count": null,
   "source": [
    "import geopandas as gpd\n",
    "\n",
    "# Load the GeoPackage file\n",
    "gdf = gpd.read_file(\"../data/population/32180_ERP_2023_SA2_GDA2020.gpkg\")\n",
    "\n",
    "# Check the first few rows of the dataset to understand its structure\n",
    "print(gdf.head(1))"
   ],
   "outputs": [],
   "metadata": {}
  },
  {
   "cell_type": "code",
   "execution_count": null,
   "source": [
    "gdf = gdf[gdf[\"State_name_2021\"] == \"Victoria\"]\n",
    "gdf[\"SA2_name_2021\"].unique()"
   ],
   "outputs": [],
   "metadata": {}
  },
  {
   "cell_type": "code",
   "execution_count": null,
   "source": [
    "gdf.columns"
   ],
   "outputs": [],
   "metadata": {}
  },
  {
   "cell_type": "code",
   "execution_count": null,
   "source": [
    "# Calculate net migration\n",
    "gdf[\"Net_migration_2021_22\"] = gdf[\"Net_overseas_migration_2021_22\"] + gdf[\"Net_internal_migration_2021_22\"]\n",
    "gdf[\"Net_migration_2022_23\"] = gdf[\"Net_overseas_migration_2022_23\"] + gdf[\"Net_internal_migration_2022_23\"]"
   ],
   "outputs": [],
   "metadata": {}
  },
  {
   "cell_type": "code",
   "execution_count": null,
   "source": [
    "# Calculate ERP/km2 from 2001-2023\n",
    "for year in range(2001, 2024):\n",
    "    gdf[f\"ERP_per_km2_{year}\"] = gdf[f\"ERP_{year}\"] / gdf[\"Area_km2\"]"
   ],
   "outputs": [],
   "metadata": {}
  },
  {
   "cell_type": "code",
   "execution_count": null,
   "source": [
    "gdf.columns"
   ],
   "outputs": [],
   "metadata": {}
  },
  {
   "cell_type": "code",
   "execution_count": null,
   "source": [
    "import folium\n",
    "import branca.colormap as cm"
   ],
   "outputs": [],
   "metadata": {}
  },
  {
   "cell_type": "code",
   "execution_count": null,
   "source": [
    "# Create directories to store plots\n",
    "os.makedirs(\"../plots/net_migrants/\", exist_ok=True)\n",
    "os.makedirs(\"../plots/erp/\", exist_ok=True)\n",
    "os.makedirs(\"../plots/area/\", exist_ok=True)\n",
    "os.makedirs(\"../plots/erp_per_km2/\", exist_ok=True)"
   ],
   "outputs": [],
   "metadata": {}
  },
  {
   "cell_type": "code",
   "execution_count": null,
   "source": [
    "def create_map(gdf, column, ouput_directory): \n",
    "    # Create a map centered on Victoria\n",
    "    m = folium.Map(location=[-37.4713, 144.7852], zoom_start=7)\n",
    "\n",
    "    # Create a color map using branca\n",
    "    colormap = cm.LinearColormap(\n",
    "        colors=['blue', 'white', 'yellow', 'orange', 'red'],\n",
    "        vmin=gdf[column].min(),\n",
    "        vmax=gdf[column].max(),\n",
    "        caption=column\n",
    "    )\n",
    "\n",
    "     # Define a function to style the features\n",
    "    def style_function(feature):\n",
    "        return {\n",
    "            'fillOpacity': 0.7,\n",
    "            'weight': 0.5,\n",
    "            'fillColor': colormap(feature['properties'][column]),\n",
    "            'color': 'black'\n",
    "        }\n",
    "\n",
    "    # Add the GeoDataFrame to the map with Folium\n",
    "    folium.GeoJson(\n",
    "        gdf,\n",
    "        style_function=style_function,\n",
    "        tooltip=folium.GeoJsonTooltip(\n",
    "            fields=['SA2_name_2021', column], \n",
    "            aliases=['Suburb Name', column]\n",
    "        )\n",
    "    ).add_to(m)\n",
    "\n",
    "    # Add the colormap legend to the map\n",
    "    colormap.add_to(m)\n",
    "\n",
    "    # Save and display the map\n",
    "    m.save(f\"{ouput_directory}/suburbs_{column.lower()}.html\")"
   ],
   "outputs": [],
   "metadata": {}
  },
  {
   "cell_type": "code",
   "execution_count": null,
   "source": [
    "# Plot suburbs' net migrations from 2021-2023\n",
    "for col in ['Net_internal_migration_2021_22', 'Net_overseas_migration_2021_22', 'Net_migration_2021_22', \n",
    "'Net_internal_migration_2022_23', 'Net_overseas_migration_2022_23', 'Net_migration_2022_23']:\n",
    "    create_map(gdf, col, '../plots/net_migrants')"
   ],
   "outputs": [],
   "metadata": {}
  },
  {
   "cell_type": "code",
   "execution_count": null,
   "source": [
    "# Plot suburbs' ERP from 2001-2023    \n",
    "for col in ['ERP_2001', 'ERP_2002',\n",
    "       'ERP_2003', 'ERP_2004', 'ERP_2005', 'ERP_2006', 'ERP_2007', 'ERP_2008',\n",
    "       'ERP_2009', 'ERP_2010', 'ERP_2011', 'ERP_2012', 'ERP_2013', 'ERP_2014',\n",
    "       'ERP_2015', 'ERP_2016', 'ERP_2017', 'ERP_2018', 'ERP_2019', 'ERP_2020',\n",
    "       'ERP_2021', 'ERP_2022', 'ERP_2023']:\n",
    "    create_map(gdf, col, '../plots/erp')"
   ],
   "outputs": [],
   "metadata": {}
  },
  {
   "cell_type": "code",
   "execution_count": null,
   "source": [
    "# Plot suburbs' area\n",
    "create_map(gdf,'Area_km2', '../plots/area')"
   ],
   "outputs": [],
   "metadata": {}
  },
  {
   "cell_type": "code",
   "execution_count": null,
   "source": [
    "# Plot suburbs' ERP/km2 from 2001-2023\n",
    "for col in ['ERP_per_km2_2001', 'ERP_per_km2_2002',\n",
    "       'ERP_per_km2_2003', 'ERP_per_km2_2004', 'ERP_per_km2_2005',\n",
    "       'ERP_per_km2_2006', 'ERP_per_km2_2007', 'ERP_per_km2_2008',\n",
    "       'ERP_per_km2_2009', 'ERP_per_km2_2010', 'ERP_per_km2_2011',\n",
    "       'ERP_per_km2_2012', 'ERP_per_km2_2013', 'ERP_per_km2_2014',\n",
    "       'ERP_per_km2_2015', 'ERP_per_km2_2016', 'ERP_per_km2_2017',\n",
    "       'ERP_per_km2_2018', 'ERP_per_km2_2019', 'ERP_per_km2_2020',\n",
    "       'ERP_per_km2_2021', 'ERP_per_km2_2022', 'ERP_per_km2_2023']:\n",
    "    create_map(gdf, col, '../plots/erp_per_km2')"
   ],
   "outputs": [],
   "metadata": {}
  }
 ],
 "metadata": {
  "orig_nbformat": 4,
  "language_info": {
   "name": "python"
  }
 },
 "nbformat": 4,
 "nbformat_minor": 2
}